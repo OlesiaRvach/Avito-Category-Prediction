{
 "cells": [
  {
   "cell_type": "markdown",
   "metadata": {},
   "source": [
    "# Kaggle. Классификатор текстов."
   ]
  },
  {
   "cell_type": "markdown",
   "metadata": {},
   "source": [
    "Ссылка на соревнование: https://www.kaggle.com/c/avito-category-prediction/overview"
   ]
  },
  {
   "cell_type": "markdown",
   "metadata": {},
   "source": [
    "Мы будем работать с датасетом объявлений Avito. Нам предстоит по заголовку и тексту объявления предсказывать категорию объявления."
   ]
  },
  {
   "cell_type": "code",
   "execution_count": 1,
   "metadata": {},
   "outputs": [],
   "source": [
    "import pandas as pd"
   ]
  },
  {
   "cell_type": "code",
   "execution_count": 2,
   "metadata": {},
   "outputs": [],
   "source": [
    "train = pd.read_csv('train.csv')\n",
    "test = pd.read_csv('test.csv')"
   ]
  },
  {
   "cell_type": "code",
   "execution_count": 3,
   "metadata": {},
   "outputs": [
    {
     "data": {
      "text/html": [
       "<div>\n",
       "<style scoped>\n",
       "    .dataframe tbody tr th:only-of-type {\n",
       "        vertical-align: middle;\n",
       "    }\n",
       "\n",
       "    .dataframe tbody tr th {\n",
       "        vertical-align: top;\n",
       "    }\n",
       "\n",
       "    .dataframe thead th {\n",
       "        text-align: right;\n",
       "    }\n",
       "</style>\n",
       "<table border=\"1\" class=\"dataframe\">\n",
       "  <thead>\n",
       "    <tr style=\"text-align: right;\">\n",
       "      <th></th>\n",
       "      <th>title</th>\n",
       "      <th>description</th>\n",
       "      <th>Category_name</th>\n",
       "      <th>Category</th>\n",
       "    </tr>\n",
       "  </thead>\n",
       "  <tbody>\n",
       "    <tr>\n",
       "      <th>0</th>\n",
       "      <td>Эбу Renault / Nissan 1,5 DCI Delphi 2001-2008 год</td>\n",
       "      <td>Комплект ЭБУ (мозги, компьютер мотора, двигате...</td>\n",
       "      <td>Запчасти и аксессуары</td>\n",
       "      <td>10</td>\n",
       "    </tr>\n",
       "    <tr>\n",
       "      <th>1</th>\n",
       "      <td>Утюг утп 1000 ватт СССР 1987 год</td>\n",
       "      <td>Продам/\\n Фото № 1-2 /\\n /\\nУтюг УТП 1000 ватт...</td>\n",
       "      <td>Бытовая техника</td>\n",
       "      <td>21</td>\n",
       "    </tr>\n",
       "    <tr>\n",
       "      <th>2</th>\n",
       "      <td>Возвму машину с выкупом</td>\n",
       "      <td>Возьму машину в аренду с последующим выкупом н...</td>\n",
       "      <td>Предложение услуг</td>\n",
       "      <td>114</td>\n",
       "    </tr>\n",
       "    <tr>\n",
       "      <th>3</th>\n",
       "      <td>Полусапожки</td>\n",
       "      <td>полусапожки в отличном состоянии, один раз оде...</td>\n",
       "      <td>Одежда, обувь, аксессуары</td>\n",
       "      <td>27</td>\n",
       "    </tr>\n",
       "    <tr>\n",
       "      <th>4</th>\n",
       "      <td>Босоножки кожаные</td>\n",
       "      <td>Кожаные(натур) босоножки Karlo Pasolini, 40 рр...</td>\n",
       "      <td>Одежда, обувь, аксессуары</td>\n",
       "      <td>27</td>\n",
       "    </tr>\n",
       "  </tbody>\n",
       "</table>\n",
       "</div>"
      ],
      "text/plain": [
       "                                               title  \\\n",
       "0  Эбу Renault / Nissan 1,5 DCI Delphi 2001-2008 год   \n",
       "1                   Утюг утп 1000 ватт СССР 1987 год   \n",
       "2                            Возвму машину с выкупом   \n",
       "3                                        Полусапожки   \n",
       "4                                  Босоножки кожаные   \n",
       "\n",
       "                                         description  \\\n",
       "0  Комплект ЭБУ (мозги, компьютер мотора, двигате...   \n",
       "1  Продам/\\n Фото № 1-2 /\\n /\\nУтюг УТП 1000 ватт...   \n",
       "2  Возьму машину в аренду с последующим выкупом н...   \n",
       "3  полусапожки в отличном состоянии, один раз оде...   \n",
       "4  Кожаные(натур) босоножки Karlo Pasolini, 40 рр...   \n",
       "\n",
       "               Category_name  Category  \n",
       "0      Запчасти и аксессуары        10  \n",
       "1            Бытовая техника        21  \n",
       "2          Предложение услуг       114  \n",
       "3  Одежда, обувь, аксессуары        27  \n",
       "4  Одежда, обувь, аксессуары        27  "
      ]
     },
     "execution_count": 3,
     "metadata": {},
     "output_type": "execute_result"
    }
   ],
   "source": [
    "train.head()"
   ]
  },
  {
   "cell_type": "markdown",
   "metadata": {},
   "source": [
    "✅ Посмотрим на размер нашего датасета (train)"
   ]
  },
  {
   "cell_type": "code",
   "execution_count": 4,
   "metadata": {},
   "outputs": [
    {
     "data": {
      "text/plain": [
       "(4234042, 4)"
      ]
     },
     "execution_count": 4,
     "metadata": {},
     "output_type": "execute_result"
    }
   ],
   "source": [
    "train.shape"
   ]
  },
  {
   "cell_type": "markdown",
   "metadata": {},
   "source": [
    "✅ Есть ли в данных пропуски"
   ]
  },
  {
   "cell_type": "code",
   "execution_count": 5,
   "metadata": {},
   "outputs": [
    {
     "data": {
      "text/plain": [
       "True"
      ]
     },
     "execution_count": 5,
     "metadata": {},
     "output_type": "execute_result"
    }
   ],
   "source": [
    "train.isnull().any().any()"
   ]
  },
  {
   "cell_type": "markdown",
   "metadata": {},
   "source": [
    "✅ Посмотрим к каких столбцах есть пропуски"
   ]
  },
  {
   "cell_type": "code",
   "execution_count": 6,
   "metadata": {},
   "outputs": [
    {
     "data": {
      "text/plain": [
       "description    2\n",
       "dtype: int64"
      ]
     },
     "execution_count": 6,
     "metadata": {},
     "output_type": "execute_result"
    }
   ],
   "source": [
    "nulls = train.isnull().sum()\n",
    "nulls = nulls[nulls>0]\n",
    "nulls"
   ]
  },
  {
   "cell_type": "markdown",
   "metadata": {},
   "source": [
    "✅ Какого типа пропуски?"
   ]
  },
  {
   "cell_type": "code",
   "execution_count": 7,
   "metadata": {},
   "outputs": [
    {
     "name": "stdout",
     "output_type": "stream",
     "text": [
      "description : object\n"
     ]
    }
   ],
   "source": [
    "for col in train:\n",
    "    if train[col].isnull().sum() > 0:\n",
    "        print(col, \":\", train[col].dtypes)"
   ]
  },
  {
   "cell_type": "markdown",
   "metadata": {},
   "source": [
    "✅ Заполним пропуски пустой строкой"
   ]
  },
  {
   "cell_type": "code",
   "execution_count": 3,
   "metadata": {},
   "outputs": [],
   "source": [
    "import numpy as np\n",
    "train = train.replace(np.nan, '', regex=True)"
   ]
  },
  {
   "cell_type": "markdown",
   "metadata": {},
   "source": [
    "✅ Пропусков больше нет"
   ]
  },
  {
   "cell_type": "code",
   "execution_count": 4,
   "metadata": {},
   "outputs": [
    {
     "data": {
      "text/plain": [
       "False"
      ]
     },
     "execution_count": 4,
     "metadata": {},
     "output_type": "execute_result"
    }
   ],
   "source": [
    "train.isnull().any().any()"
   ]
  },
  {
   "cell_type": "markdown",
   "metadata": {},
   "source": [
    "**Сконкатенируем заголовок и описание в единую строку и поместим результат в отдельный столбец. Таким образом мы будет работать с одним текстом, а не с двумя.**"
   ]
  },
  {
   "cell_type": "markdown",
   "metadata": {},
   "source": [
    "✅ Сконкатенируем заголовок и описание и создадим отедьный столбец"
   ]
  },
  {
   "cell_type": "code",
   "execution_count": 5,
   "metadata": {},
   "outputs": [],
   "source": [
    "train['title & description'] = [' '.join([str(x), y]) for x, y in zip(train['title'], train['description'])]"
   ]
  },
  {
   "cell_type": "markdown",
   "metadata": {},
   "source": [
    "✅ Удалим столбцы \"title\" и \"description\", так как данные по ним уже хранятся в раннее созданом столбце 'title & description'"
   ]
  },
  {
   "cell_type": "code",
   "execution_count": 6,
   "metadata": {},
   "outputs": [],
   "source": [
    "train = train.drop(\"title\", axis=1)\n",
    "train = train.drop(\"description\", axis=1)"
   ]
  },
  {
   "cell_type": "markdown",
   "metadata": {},
   "source": [
    "✅ Посмотрим как теперь выглядят наши данные"
   ]
  },
  {
   "cell_type": "code",
   "execution_count": 12,
   "metadata": {},
   "outputs": [
    {
     "data": {
      "text/html": [
       "<div>\n",
       "<style scoped>\n",
       "    .dataframe tbody tr th:only-of-type {\n",
       "        vertical-align: middle;\n",
       "    }\n",
       "\n",
       "    .dataframe tbody tr th {\n",
       "        vertical-align: top;\n",
       "    }\n",
       "\n",
       "    .dataframe thead th {\n",
       "        text-align: right;\n",
       "    }\n",
       "</style>\n",
       "<table border=\"1\" class=\"dataframe\">\n",
       "  <thead>\n",
       "    <tr style=\"text-align: right;\">\n",
       "      <th></th>\n",
       "      <th>Category_name</th>\n",
       "      <th>Category</th>\n",
       "      <th>title &amp; description</th>\n",
       "    </tr>\n",
       "  </thead>\n",
       "  <tbody>\n",
       "    <tr>\n",
       "      <th>0</th>\n",
       "      <td>Запчасти и аксессуары</td>\n",
       "      <td>10</td>\n",
       "      <td>Эбу Renault / Nissan 1,5 DCI Delphi 2001-2008 ...</td>\n",
       "    </tr>\n",
       "    <tr>\n",
       "      <th>1</th>\n",
       "      <td>Бытовая техника</td>\n",
       "      <td>21</td>\n",
       "      <td>Утюг утп 1000 ватт СССР 1987 год Продам/\\n Фот...</td>\n",
       "    </tr>\n",
       "    <tr>\n",
       "      <th>2</th>\n",
       "      <td>Предложение услуг</td>\n",
       "      <td>114</td>\n",
       "      <td>Возвму машину с выкупом Возьму машину в аренду...</td>\n",
       "    </tr>\n",
       "    <tr>\n",
       "      <th>3</th>\n",
       "      <td>Одежда, обувь, аксессуары</td>\n",
       "      <td>27</td>\n",
       "      <td>Полусапожки полусапожки в отличном состоянии, ...</td>\n",
       "    </tr>\n",
       "    <tr>\n",
       "      <th>4</th>\n",
       "      <td>Одежда, обувь, аксессуары</td>\n",
       "      <td>27</td>\n",
       "      <td>Босоножки кожаные Кожаные(натур) босоножки Kar...</td>\n",
       "    </tr>\n",
       "    <tr>\n",
       "      <th>...</th>\n",
       "      <td>...</td>\n",
       "      <td>...</td>\n",
       "      <td>...</td>\n",
       "    </tr>\n",
       "    <tr>\n",
       "      <th>4234037</th>\n",
       "      <td>Мотоциклы и мототехника</td>\n",
       "      <td>14</td>\n",
       "      <td>Мопед Дельта Мотоланд 70 кубиков Продам новый ...</td>\n",
       "    </tr>\n",
       "    <tr>\n",
       "      <th>4234038</th>\n",
       "      <td>Телефоны</td>\n",
       "      <td>84</td>\n",
       "      <td>Xiaomi A2 4/64 почти новый (б/у 3 дня) Xiaomi ...</td>\n",
       "    </tr>\n",
       "    <tr>\n",
       "      <th>4234039</th>\n",
       "      <td>Детская одежда и обувь</td>\n",
       "      <td>29</td>\n",
       "      <td>Шерстяной комбинезон Joha В отличном состоянии...</td>\n",
       "    </tr>\n",
       "    <tr>\n",
       "      <th>4234040</th>\n",
       "      <td>Детская одежда и обувь</td>\n",
       "      <td>29</td>\n",
       "      <td>Джинсы фирмы Zara р.152 Новые</td>\n",
       "    </tr>\n",
       "    <tr>\n",
       "      <th>4234041</th>\n",
       "      <td>Дома, дачи, коттеджи</td>\n",
       "      <td>25</td>\n",
       "      <td>Дом 105 м² на участке 10 сот. Продам полдома ,...</td>\n",
       "    </tr>\n",
       "  </tbody>\n",
       "</table>\n",
       "<p>4234042 rows × 3 columns</p>\n",
       "</div>"
      ],
      "text/plain": [
       "                     Category_name  Category  \\\n",
       "0            Запчасти и аксессуары        10   \n",
       "1                  Бытовая техника        21   \n",
       "2                Предложение услуг       114   \n",
       "3        Одежда, обувь, аксессуары        27   \n",
       "4        Одежда, обувь, аксессуары        27   \n",
       "...                            ...       ...   \n",
       "4234037    Мотоциклы и мототехника        14   \n",
       "4234038                   Телефоны        84   \n",
       "4234039     Детская одежда и обувь        29   \n",
       "4234040     Детская одежда и обувь        29   \n",
       "4234041       Дома, дачи, коттеджи        25   \n",
       "\n",
       "                                       title & description  \n",
       "0        Эбу Renault / Nissan 1,5 DCI Delphi 2001-2008 ...  \n",
       "1        Утюг утп 1000 ватт СССР 1987 год Продам/\\n Фот...  \n",
       "2        Возвму машину с выкупом Возьму машину в аренду...  \n",
       "3        Полусапожки полусапожки в отличном состоянии, ...  \n",
       "4        Босоножки кожаные Кожаные(натур) босоножки Kar...  \n",
       "...                                                    ...  \n",
       "4234037  Мопед Дельта Мотоланд 70 кубиков Продам новый ...  \n",
       "4234038  Xiaomi A2 4/64 почти новый (б/у 3 дня) Xiaomi ...  \n",
       "4234039  Шерстяной комбинезон Joha В отличном состоянии...  \n",
       "4234040                      Джинсы фирмы Zara р.152 Новые  \n",
       "4234041  Дом 105 м² на участке 10 сот. Продам полдома ,...  \n",
       "\n",
       "[4234042 rows x 3 columns]"
      ]
     },
     "execution_count": 12,
     "metadata": {},
     "output_type": "execute_result"
    }
   ],
   "source": [
    "train"
   ]
  },
  {
   "cell_type": "markdown",
   "metadata": {},
   "source": [
    "## Изучаем данные"
   ]
  },
  {
   "cell_type": "markdown",
   "metadata": {},
   "source": [
    "1. ✅ Сколько всего уникальных классов необходимо предсказать"
   ]
  },
  {
   "cell_type": "code",
   "execution_count": 13,
   "metadata": {},
   "outputs": [
    {
     "data": {
      "text/plain": [
       "50"
      ]
     },
     "execution_count": 13,
     "metadata": {},
     "output_type": "execute_result"
    }
   ],
   "source": [
    "train[\"Category_name\"].nunique()"
   ]
  },
  {
   "cell_type": "markdown",
   "metadata": {},
   "source": [
    "2. ✅ Столбчатая диаграмма распределения по классам (нормализованная). "
   ]
  },
  {
   "cell_type": "code",
   "execution_count": 14,
   "metadata": {},
   "outputs": [],
   "source": [
    "category = train[\"Category_name\"].value_counts() / len(train)"
   ]
  },
  {
   "cell_type": "code",
   "execution_count": 15,
   "metadata": {},
   "outputs": [
    {
     "data": {
      "image/png": "[encoded data removed]",
      "text/plain": [
       "<Figure size 1080x720 with 1 Axes>"
      ]
     },
     "metadata": {
      "needs_background": "light"
     },
     "output_type": "display_data"
    }
   ],
   "source": [
    "import matplotlib.pyplot as plt\n",
    "%matplotlib inline\n",
    "\n",
    "fig, ax = plt.subplots(figsize=(15,10))\n",
    "train['Category_name'].value_counts().apply(lambda x: x/train['Category_name'].shape[0]).plot(kind='bar', ax=ax)\n",
    "plt.title('Распределение по классам')\n",
    "plt.show()"
   ]
  },
  {
   "cell_type": "markdown",
   "metadata": {},
   "source": [
    "3.✅ Посмотрим на дисбаланс классов"
   ]
  },
  {
   "cell_type": "code",
   "execution_count": 16,
   "metadata": {},
   "outputs": [],
   "source": [
    "category = train[\"Category_name\"].value_counts() / len(train)"
   ]
  },
  {
   "cell_type": "markdown",
   "metadata": {},
   "source": [
    "- Самая большая доля в выборке у класса \"Одежда, обувь, аксессуары\""
   ]
  },
  {
   "cell_type": "code",
   "execution_count": 17,
   "metadata": {},
   "outputs": [
    {
     "data": {
      "text/plain": [
       "Одежда, обувь, аксессуары    0.180707\n",
       "Name: Category_name, dtype: float64"
      ]
     },
     "execution_count": 17,
     "metadata": {},
     "output_type": "execute_result"
    }
   ],
   "source": [
    "category.nlargest(1)"
   ]
  },
  {
   "cell_type": "markdown",
   "metadata": {},
   "source": [
    "- Самая маленькая доля в выборке у класса \"Недвижимость за рубежом\""
   ]
  },
  {
   "cell_type": "code",
   "execution_count": 18,
   "metadata": {},
   "outputs": [
    {
     "data": {
      "text/plain": [
       "Недвижимость за рубежом    0.000039\n",
       "Name: Category_name, dtype: float64"
      ]
     },
     "execution_count": 18,
     "metadata": {},
     "output_type": "execute_result"
    }
   ],
   "source": [
    "category.nsmallest(1)"
   ]
  },
  {
   "cell_type": "markdown",
   "metadata": {},
   "source": [
    "- Соответственно, категория \"Одежда, обувь, аксессуары\" встречается примерно в 4637 раза чаще, чем \"Недвижимость за рубежом\""
   ]
  },
  {
   "cell_type": "code",
   "execution_count": 19,
   "metadata": {},
   "outputs": [
    {
     "data": {
      "text/plain": [
       "4637.090909090909"
      ]
     },
     "execution_count": 19,
     "metadata": {},
     "output_type": "execute_result"
    }
   ],
   "source": [
    "max(category)/min(category) # дисбаланс"
   ]
  },
  {
   "cell_type": "markdown",
   "metadata": {},
   "source": [
    "**Поработаем только с train частью**\n",
    "\n",
    "(Для test части нам неизвестны истинные значения, и они понадобятся только тогда, когда мы будем отправлять решение на Kaggle)\n",
    "\n",
    "1. Предобработаем данные (train часть) с помощью CountVectorizer.\n",
    "2. Посмотрим на размер матрицы\n"
   ]
  },
  {
   "cell_type": "code",
   "execution_count": 20,
   "metadata": {},
   "outputs": [],
   "source": [
    "Train = list(train['title & description'])"
   ]
  },
  {
   "cell_type": "markdown",
   "metadata": {},
   "source": [
    "✅ Проработка данных с помощью CountVectorizer"
   ]
  },
  {
   "cell_type": "code",
   "execution_count": 22,
   "metadata": {},
   "outputs": [],
   "source": [
    "from sklearn.feature_extraction.text import CountVectorizer\n",
    "\n",
    "vectorizer = CountVectorizer()\n",
    "X = vectorizer.fit_transform(Train)\n",
    "#X.toarray()"
   ]
  },
  {
   "cell_type": "markdown",
   "metadata": {},
   "source": [
    "✅ Размер полученной матрицы (результат обработки train CountVectorizerом)"
   ]
  },
  {
   "cell_type": "code",
   "execution_count": 23,
   "metadata": {},
   "outputs": [
    {
     "data": {
      "text/plain": [
       "<4234042x2125805 sparse matrix of type '<class 'numpy.int64'>'\n",
       "\twith 150918485 stored elements in Compressed Sparse Row format>"
      ]
     },
     "execution_count": 23,
     "metadata": {},
     "output_type": "execute_result"
    }
   ],
   "source": [
    "X"
   ]
  },
  {
   "cell_type": "markdown",
   "metadata": {},
   "source": [
    "**Заметим, что матрица получилась огромной.**\n",
    "\n",
    "\n",
    "**В тексте есть множество специальных символов.**\n",
    "\n",
    "Давайте также посмотрим на словарь, который получился в результате построения CountVectorizer, его можно найти в поле _vocabulary инстанса этого класса.\n",
    "\n",
    "1. Найдем в этом словаре все слова, которые начинаются на цифру.\n",
    "\n",
    "2. Найдем все слова, которые начинаются на символы пунктуации."
   ]
  },
  {
   "cell_type": "markdown",
   "metadata": {},
   "source": [
    "✅ Посмотрим на ключи в нашем словаре"
   ]
  },
  {
   "cell_type": "code",
   "execution_count": 24,
   "metadata": {},
   "outputs": [],
   "source": [
    "v=list(vectorizer.vocabulary_.keys())"
   ]
  },
  {
   "cell_type": "markdown",
   "metadata": {},
   "source": [
    "1.✅ На цифру начинается 610944 слово"
   ]
  },
  {
   "cell_type": "code",
   "execution_count": 25,
   "metadata": {},
   "outputs": [
    {
     "data": {
      "text/plain": [
       "610944"
      ]
     },
     "execution_count": 25,
     "metadata": {},
     "output_type": "execute_result"
    }
   ],
   "source": [
    "words1 = []\n",
    "for line in v:\n",
    "    words1 += [w for w in line.split() if w[0].isdigit()]\n",
    "len(words1)"
   ]
  },
  {
   "cell_type": "markdown",
   "metadata": {},
   "source": [
    "2.✅ На символы пунктуации начинается 2043 слова (все символы пунктуации, которые находит мой алгоритм представлены в ячейке ниже)"
   ]
  },
  {
   "cell_type": "code",
   "execution_count": 26,
   "metadata": {},
   "outputs": [
    {
     "data": {
      "text/plain": [
       "'!\"#$%&\\'()*+,-./:;<=>?@[\\\\]^_`{|}~'"
      ]
     },
     "execution_count": 26,
     "metadata": {},
     "output_type": "execute_result"
    }
   ],
   "source": [
    "import string\n",
    "res=string.punctuation\n",
    "res"
   ]
  },
  {
   "cell_type": "code",
   "execution_count": 27,
   "metadata": {},
   "outputs": [
    {
     "data": {
      "text/plain": [
       "2043"
      ]
     },
     "execution_count": 27,
     "metadata": {},
     "output_type": "execute_result"
    }
   ],
   "source": [
    "words2 = []\n",
    "for line in v:\n",
    "    words2 += [w for w in line.split() if w[0] in res]\n",
    "len(words2)"
   ]
  },
  {
   "cell_type": "markdown",
   "metadata": {},
   "source": [
    "В scikit-learn мы можем оценивать процесс подсчета матрицы через CountVectorizer. \n",
    "\n",
    "У CountVectorizer, как и у других наследников \\_VectorizerMixin, есть аргумент tokenizer и preprocessor.\n",
    "- preprocessor применится в самом начале к каждой строке вашего датасета,\n",
    "- tokenizer же должен принять строку и вернуть токены.\n",
    "\n",
    "\n",
    "**Напишем кастомный токенайзер, которые сделает все, что нам нужно:**\n",
    "\n",
    "0. Приведет все буквы к нижнему регистру\n",
    "1. Разобьет текст на токены с помощью word_tokenizer из пакета nltk\n",
    "2. Удалит все токены содержащие числительные и пунктуацию\n",
    "3. Удалит все токены, которые перечислены в nltk.corpus.stopwords('russian')\n",
    "4. Проведет стемминг с помощью SnowballStemmer\n"
   ]
  },
  {
   "cell_type": "markdown",
   "metadata": {},
   "source": [
    "✅ Вынесла в отдельную ячейку все библиотеки, которые мне пригодились при написании функции"
   ]
  },
  {
   "cell_type": "code",
   "execution_count": 7,
   "metadata": {},
   "outputs": [
    {
     "name": "stderr",
     "output_type": "stream",
     "text": [
      "[nltk_data] Downloading package punkt to\n",
      "[nltk_data]     C:\\Users\\krup1\\AppData\\Roaming\\nltk_data...\n",
      "[nltk_data]   Package punkt is already up-to-date!\n",
      "[nltk_data] Downloading package stopwords to\n",
      "[nltk_data]     C:\\Users\\krup1\\AppData\\Roaming\\nltk_data...\n",
      "[nltk_data]   Package stopwords is already up-to-date!\n"
     ]
    }
   ],
   "source": [
    "import nltk\n",
    "nltk.download('punkt')\n",
    "import nltk\n",
    "nltk.download('stopwords')\n",
    "from nltk import word_tokenize\n",
    "from nltk.tokenize import RegexpTokenizer\n",
    "from nltk.corpus import stopwords\n",
    "stop_words = stopwords.words(\"russian\")\n",
    "from nltk.stem import SnowballStemmer\n",
    "from nltk.stem.snowball import SnowballStemmer "
   ]
  },
  {
   "cell_type": "markdown",
   "metadata": {},
   "source": [
    "✅ Мой токенайзер:"
   ]
  },
  {
   "cell_type": "code",
   "execution_count": 8,
   "metadata": {},
   "outputs": [],
   "source": [
    "def count_iterable(i):\n",
    "    return sum(1 for e in i)\n",
    "\n",
    "\n",
    "def My_tokenizer (text):\n",
    "    #0\n",
    "    text = text.lower()\n",
    "    \n",
    "    #1\n",
    "    tknzr = word_tokenize(str(text))\n",
    "    \n",
    "    #2\n",
    "    tokenizer = RegexpTokenizer(r'\\w+')   # пунктуация\n",
    "    text = tokenizer.tokenize(str(text)) \n",
    "    \n",
    "    filtered_tokens = []    #цифры\n",
    "    filtered_tokens = (token for token in text if not token.isdigit())\n",
    "    \n",
    "    #3\n",
    "    f_tokens = []\n",
    "    f_tokens = (token for token in filtered_tokens if token not in stop_words)\n",
    "\n",
    "    #4\n",
    "    stemmer = SnowballStemmer('russian')\n",
    "    tokens = []\n",
    "    for i in f_tokens:\n",
    "        stemmed_example = stemmer.stem(i)\n",
    "        tokens += [stemmed_example]\n",
    "    \n",
    "    \n",
    "    return(tokens)"
   ]
  },
  {
   "cell_type": "markdown",
   "metadata": {},
   "source": [
    "Не обращайте внимание на библиотеку time, она мне требовалась для оптимизации токинайзера."
   ]
  },
  {
   "cell_type": "markdown",
   "metadata": {},
   "source": [
    "✅ Проверим работу функции на самом первом описании товара в датасете (первую строчку занесла в переменную listt, ячейка ниже)"
   ]
  },
  {
   "cell_type": "code",
   "execution_count": 41,
   "metadata": {},
   "outputs": [
    {
     "name": "stdout",
     "output_type": "stream",
     "text": [
      "--- 84.1736786365509 seconds ---\n"
     ]
    },
    {
     "data": {
      "text/plain": [
       "['эб',\n",
       " 'renault',\n",
       " 'nissan',\n",
       " 'dci',\n",
       " 'delphi',\n",
       " 'год',\n",
       " 'комплект',\n",
       " 'эб',\n",
       " 'мозг',\n",
       " 'компьютер',\n",
       " 'мотор',\n",
       " 'двигател',\n",
       " 'коммутатор',\n",
       " 'электрон',\n",
       " 'блок',\n",
       " 'управлен',\n",
       " 'двигател',\n",
       " 'компьютер',\n",
       " 'мотор',\n",
       " 'рен',\n",
       " 'kangoo',\n",
       " 'канг',\n",
       " 'канг',\n",
       " 'мега',\n",
       " 'сценик',\n",
       " 'laguna',\n",
       " 'лагун',\n",
       " 'clio',\n",
       " 'кли',\n",
       " 'nissan',\n",
       " 'micra',\n",
       " 'нисса',\n",
       " 'микр',\n",
       " 'друг',\n",
       " 'рен',\n",
       " 'нисса',\n",
       " 'дизел',\n",
       " 'топливн',\n",
       " 'аппаратур',\n",
       " 'делф',\n",
       " 'б',\n",
       " 'оригина',\n",
       " 'отличн',\n",
       " 'состоян',\n",
       " 'проверен',\n",
       " 'гарант',\n",
       " 'запчаст',\n",
       " 'предоставля',\n",
       " 'гарант',\n",
       " 'возможн',\n",
       " 'установк',\n",
       " 'подробн',\n",
       " 'раздел',\n",
       " 'компан',\n",
       " 'дорож',\n",
       " 'сво',\n",
       " 'репутац',\n",
       " 'торгу',\n",
       " 'легальн',\n",
       " 'контрактн',\n",
       " 'запчаст',\n",
       " 'дета',\n",
       " 'налич',\n",
       " 'таможен',\n",
       " 'документ',\n",
       " 'запчаст',\n",
       " 'автомобил',\n",
       " 'пробег',\n",
       " 'росс',\n",
       " 'отправля',\n",
       " 'друг',\n",
       " 'регион',\n",
       " 'таможен',\n",
       " 'союз',\n",
       " 'транспортн',\n",
       " 'компан',\n",
       " 'наложн',\n",
       " 'платеж']"
      ]
     },
     "execution_count": 41,
     "metadata": {},
     "output_type": "execute_result"
    }
   ],
   "source": [
    "import time\n",
    "\n",
    "a  = My_tokenizer(listt)\n",
    "\n",
    "start_time = time.time()\n",
    "\n",
    "for i in range(10000):\n",
    "    My_tokenizer(listt)\n",
    "print(\"--- %s seconds ---\" % (time.time() - start_time))\n",
    "a"
   ]
  },
  {
   "cell_type": "code",
   "execution_count": 38,
   "metadata": {},
   "outputs": [],
   "source": [
    "listt = train['title & description'][0]"
   ]
  },
  {
   "cell_type": "markdown",
   "metadata": {},
   "source": [
    "### Оценка качества\n",
    "\n",
    "1. Возьмем случайные 500к строк из датасета. Построим по ним CountVectorizer с применением  токенизатора.\n",
    "2. Разобьем полученную матрицу на train, test в отношении 4 к 1. Не забываем про target переменную.\n",
    "3. Обучим SGDClassifier на полученной выборке.\n",
    "4. Посчитаем метрику accuracy"
   ]
  },
  {
   "cell_type": "markdown",
   "metadata": {},
   "source": [
    "- Возьмем случайные 500к строк, перед этим зафиксируем random.seed"
   ]
  },
  {
   "cell_type": "code",
   "execution_count": 9,
   "metadata": {},
   "outputs": [],
   "source": [
    "np.random.seed(42)"
   ]
  },
  {
   "cell_type": "code",
   "execution_count": 10,
   "metadata": {},
   "outputs": [
    {
     "data": {
      "text/html": [
       "<div>\n",
       "<style scoped>\n",
       "    .dataframe tbody tr th:only-of-type {\n",
       "        vertical-align: middle;\n",
       "    }\n",
       "\n",
       "    .dataframe tbody tr th {\n",
       "        vertical-align: top;\n",
       "    }\n",
       "\n",
       "    .dataframe thead th {\n",
       "        text-align: right;\n",
       "    }\n",
       "</style>\n",
       "<table border=\"1\" class=\"dataframe\">\n",
       "  <thead>\n",
       "    <tr style=\"text-align: right;\">\n",
       "      <th></th>\n",
       "      <th>Category_name</th>\n",
       "      <th>Category</th>\n",
       "      <th>title &amp; description</th>\n",
       "    </tr>\n",
       "  </thead>\n",
       "  <tbody>\n",
       "    <tr>\n",
       "      <th>382220</th>\n",
       "      <td>Мебель и интерьер</td>\n",
       "      <td>20</td>\n",
       "      <td>Прихожая В хорошем состоянии. Торг</td>\n",
       "    </tr>\n",
       "    <tr>\n",
       "      <th>397529</th>\n",
       "      <td>Запчасти и аксессуары</td>\n",
       "      <td>10</td>\n",
       "      <td>Кордиант 215/55/16 Летние Кордиант 215/55/16 Л...</td>\n",
       "    </tr>\n",
       "    <tr>\n",
       "      <th>584569</th>\n",
       "      <td>Мебель и интерьер</td>\n",
       "      <td>20</td>\n",
       "      <td>Стол Стол, 2 рабочих места . Стол серого цвета...</td>\n",
       "    </tr>\n",
       "    <tr>\n",
       "      <th>2513100</th>\n",
       "      <td>Одежда, обувь, аксессуары</td>\n",
       "      <td>27</td>\n",
       "      <td>Комбинезон Размер-42/44</td>\n",
       "    </tr>\n",
       "    <tr>\n",
       "      <th>1091886</th>\n",
       "      <td>Детская одежда и обувь</td>\n",
       "      <td>29</td>\n",
       "      <td>Ветровка На 2 года</td>\n",
       "    </tr>\n",
       "    <tr>\n",
       "      <th>...</th>\n",
       "      <td>...</td>\n",
       "      <td>...</td>\n",
       "      <td>...</td>\n",
       "    </tr>\n",
       "    <tr>\n",
       "      <th>3308445</th>\n",
       "      <td>Коллекционирование</td>\n",
       "      <td>36</td>\n",
       "      <td>Бахилы озк, новые, р 1.2.3 ткань бцк Бахилы ОЗ...</td>\n",
       "    </tr>\n",
       "    <tr>\n",
       "      <th>2960243</th>\n",
       "      <td>Запчасти и аксессуары</td>\n",
       "      <td>10</td>\n",
       "      <td>Тойота матрикс бампер передний от тойоты матри...</td>\n",
       "    </tr>\n",
       "    <tr>\n",
       "      <th>2819432</th>\n",
       "      <td>Одежда, обувь, аксессуары</td>\n",
       "      <td>27</td>\n",
       "      <td>Куртка женская Натуральная замшевая куртка, ос...</td>\n",
       "    </tr>\n",
       "    <tr>\n",
       "      <th>619198</th>\n",
       "      <td>Часы и украшения</td>\n",
       "      <td>28</td>\n",
       "      <td>Часы Восток СССР зеленые редкие Люкс Часы в от...</td>\n",
       "    </tr>\n",
       "    <tr>\n",
       "      <th>922223</th>\n",
       "      <td>Одежда, обувь, аксессуары</td>\n",
       "      <td>27</td>\n",
       "      <td>Дубленка с капюшоном новая Продается дубленка ...</td>\n",
       "    </tr>\n",
       "  </tbody>\n",
       "</table>\n",
       "<p>500000 rows × 3 columns</p>\n",
       "</div>"
      ],
      "text/plain": [
       "                     Category_name  Category  \\\n",
       "382220           Мебель и интерьер        20   \n",
       "397529       Запчасти и аксессуары        10   \n",
       "584569           Мебель и интерьер        20   \n",
       "2513100  Одежда, обувь, аксессуары        27   \n",
       "1091886     Детская одежда и обувь        29   \n",
       "...                            ...       ...   \n",
       "3308445         Коллекционирование        36   \n",
       "2960243      Запчасти и аксессуары        10   \n",
       "2819432  Одежда, обувь, аксессуары        27   \n",
       "619198            Часы и украшения        28   \n",
       "922223   Одежда, обувь, аксессуары        27   \n",
       "\n",
       "                                       title & description  \n",
       "382220                  Прихожая В хорошем состоянии. Торг  \n",
       "397529   Кордиант 215/55/16 Летние Кордиант 215/55/16 Л...  \n",
       "584569   Стол Стол, 2 рабочих места . Стол серого цвета...  \n",
       "2513100                            Комбинезон Размер-42/44  \n",
       "1091886                                 Ветровка На 2 года  \n",
       "...                                                    ...  \n",
       "3308445  Бахилы озк, новые, р 1.2.3 ткань бцк Бахилы ОЗ...  \n",
       "2960243  Тойота матрикс бампер передний от тойоты матри...  \n",
       "2819432  Куртка женская Натуральная замшевая куртка, ос...  \n",
       "619198   Часы Восток СССР зеленые редкие Люкс Часы в от...  \n",
       "922223   Дубленка с капюшоном новая Продается дубленка ...  \n",
       "\n",
       "[500000 rows x 3 columns]"
      ]
     },
     "execution_count": 10,
     "metadata": {},
     "output_type": "execute_result"
    }
   ],
   "source": [
    "tr = train.sample(500000)\n",
    "tr"
   ]
  },
  {
   "cell_type": "markdown",
   "metadata": {},
   "source": [
    "- Построим по случайным 500к строкам CountVectorizer"
   ]
  },
  {
   "cell_type": "code",
   "execution_count": 63,
   "metadata": {},
   "outputs": [],
   "source": [
    "from sklearn.feature_extraction.text import CountVectorizer\n",
    "\n",
    "vectorizer = CountVectorizer(tokenizer = My_tokenizer)\n",
    "X = vectorizer.fit_transform(tr['title & description'])"
   ]
  },
  {
   "cell_type": "markdown",
   "metadata": {},
   "source": [
    "- Посмотрим на размер нашей матрицы"
   ]
  },
  {
   "cell_type": "code",
   "execution_count": 68,
   "metadata": {},
   "outputs": [
    {
     "data": {
      "text/plain": [
       "<500000x332849 sparse matrix of type '<class 'numpy.int64'>'\n",
       "\twith 14221114 stored elements in Compressed Sparse Row format>"
      ]
     },
     "execution_count": 68,
     "metadata": {},
     "output_type": "execute_result"
    }
   ],
   "source": [
    "X"
   ]
  },
  {
   "cell_type": "markdown",
   "metadata": {},
   "source": [
    "- Переходим к обучению. Разобьем нашу выборку на train и test"
   ]
  },
  {
   "cell_type": "code",
   "execution_count": 69,
   "metadata": {},
   "outputs": [],
   "source": [
    "from sklearn.model_selection import train_test_split\n",
    "from sklearn.linear_model import SGDClassifier"
   ]
  },
  {
   "cell_type": "code",
   "execution_count": 70,
   "metadata": {},
   "outputs": [],
   "source": [
    "x_train, x_test, y_train, y_test = train_test_split(X, tr.Category, random_state=13, test_size=0.2)"
   ]
  },
  {
   "cell_type": "markdown",
   "metadata": {},
   "source": [
    "- Обучаем SGDClassifier на полученной выборке"
   ]
  },
  {
   "cell_type": "code",
   "execution_count": 71,
   "metadata": {},
   "outputs": [],
   "source": [
    "clf = SGDClassifier()\n",
    "clf.fit(x_train, y_train)\n",
    "pred_CountVectorizer = clf.predict(x_test)"
   ]
  },
  {
   "cell_type": "markdown",
   "metadata": {},
   "source": [
    "- Считаем accuracy"
   ]
  },
  {
   "cell_type": "code",
   "execution_count": 72,
   "metadata": {},
   "outputs": [],
   "source": [
    "from sklearn.metrics import accuracy_score"
   ]
  },
  {
   "cell_type": "code",
   "execution_count": 73,
   "metadata": {},
   "outputs": [
    {
     "name": "stdout",
     "output_type": "stream",
     "text": [
      "0.86048\n"
     ]
    }
   ],
   "source": [
    "print(accuracy_score(y_test, pred_CountVectorizer))"
   ]
  },
  {
   "cell_type": "markdown",
   "metadata": {},
   "source": [
    "### ✅ CountVectorizer - 0.86048"
   ]
  },
  {
   "cell_type": "markdown",
   "metadata": {},
   "source": [
    "### Оценка качетва 2.0\n",
    "1. Повторим все то же самое, но с tf-idf векторизатором. Посмотрим на изменение качетсва.\n",
    "2. Мы можем еще сильнее уменьшите размер нашей матрицы, если отбросим значения df близкие к единице. Скорее всего такие слова не несут много информации о категории, так как встречаются достаточно часто. Ограничим максимальный df в параметрах TfIdfVectorizer, верхнюя граница =  0.9. Посмотрим на изменение в качетсве\n"
   ]
  },
  {
   "cell_type": "markdown",
   "metadata": {},
   "source": [
    "1)"
   ]
  },
  {
   "cell_type": "markdown",
   "metadata": {},
   "source": [
    "- Подключим необходимую библеотеку"
   ]
  },
  {
   "cell_type": "code",
   "execution_count": 11,
   "metadata": {},
   "outputs": [],
   "source": [
    "from sklearn.feature_extraction.text import TfidfVectorizer"
   ]
  },
  {
   "cell_type": "markdown",
   "metadata": {},
   "source": [
    "- Применяем TfidfVectorizer"
   ]
  },
  {
   "cell_type": "code",
   "execution_count": 12,
   "metadata": {},
   "outputs": [],
   "source": [
    "vectorizer = TfidfVectorizer(tokenizer = My_tokenizer)\n",
    "X = vectorizer.fit_transform(tr['title & description'])"
   ]
  },
  {
   "cell_type": "code",
   "execution_count": 13,
   "metadata": {},
   "outputs": [
    {
     "data": {
      "text/plain": [
       "<500000x332849 sparse matrix of type '<class 'numpy.float64'>'\n",
       "\twith 14221114 stored elements in Compressed Sparse Row format>"
      ]
     },
     "execution_count": 13,
     "metadata": {},
     "output_type": "execute_result"
    }
   ],
   "source": [
    "X"
   ]
  },
  {
   "cell_type": "code",
   "execution_count": 44,
   "metadata": {},
   "outputs": [],
   "source": [
    "x_train, x_test, y_train, y_test = train_test_split(X, tr.Category, random_state=13, test_size=0.2)"
   ]
  },
  {
   "cell_type": "markdown",
   "metadata": {},
   "source": [
    "- Обучаем"
   ]
  },
  {
   "cell_type": "code",
   "execution_count": 45,
   "metadata": {},
   "outputs": [],
   "source": [
    "clf = SGDClassifier()\n",
    "clf.fit(x_train, y_train)\n",
    "pred = clf.predict(x_test)"
   ]
  },
  {
   "cell_type": "markdown",
   "metadata": {},
   "source": [
    "- Считаем accuracy"
   ]
  },
  {
   "cell_type": "code",
   "execution_count": 46,
   "metadata": {},
   "outputs": [
    {
     "name": "stdout",
     "output_type": "stream",
     "text": [
      "0.8376\n"
     ]
    }
   ],
   "source": [
    "print(accuracy_score(y_test, pred))"
   ]
  },
  {
   "cell_type": "markdown",
   "metadata": {},
   "source": [
    "### ✅ TfidfVectorizer - 0.8376"
   ]
  },
  {
   "cell_type": "markdown",
   "metadata": {},
   "source": [
    "**Видим, что доля правильных ответов стала меньше почти на 0.03 по сравнению с CountVectorizerом**"
   ]
  },
  {
   "cell_type": "markdown",
   "metadata": {},
   "source": [
    "2)"
   ]
  },
  {
   "cell_type": "markdown",
   "metadata": {},
   "source": [
    "- Применяем TfidfVectorizer с верхней границей 0.9"
   ]
  },
  {
   "cell_type": "code",
   "execution_count": 14,
   "metadata": {},
   "outputs": [],
   "source": [
    "vectorizer = TfidfVectorizer(tokenizer = My_tokenizer, max_df = 0.9)\n",
    "X = vectorizer.fit_transform(tr['title & description'])"
   ]
  },
  {
   "cell_type": "code",
   "execution_count": 15,
   "metadata": {},
   "outputs": [
    {
     "data": {
      "text/plain": [
       "<500000x332849 sparse matrix of type '<class 'numpy.float64'>'\n",
       "\twith 14221114 stored elements in Compressed Sparse Row format>"
      ]
     },
     "execution_count": 15,
     "metadata": {},
     "output_type": "execute_result"
    }
   ],
   "source": [
    "X"
   ]
  },
  {
   "cell_type": "markdown",
   "metadata": {},
   "source": [
    "- Обучаем"
   ]
  },
  {
   "cell_type": "code",
   "execution_count": 48,
   "metadata": {},
   "outputs": [],
   "source": [
    "x_train, x_test, y_train, y_test = train_test_split(X, tr.Category, random_state=13, test_size=0.2)"
   ]
  },
  {
   "cell_type": "code",
   "execution_count": 49,
   "metadata": {},
   "outputs": [],
   "source": [
    "clf = SGDClassifier()\n",
    "clf.fit(x_train, y_train)\n",
    "pred = clf.predict(x_test)"
   ]
  },
  {
   "cell_type": "markdown",
   "metadata": {},
   "source": [
    "- Считаем accuracy"
   ]
  },
  {
   "cell_type": "code",
   "execution_count": 50,
   "metadata": {},
   "outputs": [
    {
     "name": "stdout",
     "output_type": "stream",
     "text": [
      "0.8376\n"
     ]
    }
   ],
   "source": [
    "print(accuracy_score(y_test, pred))"
   ]
  },
  {
   "cell_type": "markdown",
   "metadata": {},
   "source": [
    "### ✅TfidfVectorizer (0.9) - 0.8376"
   ]
  },
  {
   "cell_type": "markdown",
   "metadata": {},
   "source": [
    "**Видим, что доля правильных ответов стала меньше почти на 0.03 по сравнению с CountVectorizerом, однако качество при уставленной верхней границы осталось прежним.**"
   ]
  },
  {
   "cell_type": "markdown",
   "metadata": {},
   "source": [
    "## Уменьшаем количество признаков с помощью hashing trick\n",
    "Его суть в том, то мы случайно группируем признаки и складываем их, а потом удаляем исходные признаки. В итоге все наши признаки это просто суммы исходных. Давайте проверим этот трюк в нашем сеттинге."
   ]
  },
  {
   "cell_type": "markdown",
   "metadata": {},
   "source": [
    "1)"
   ]
  },
  {
   "cell_type": "code",
   "execution_count": 51,
   "metadata": {},
   "outputs": [],
   "source": [
    "from sklearn.feature_extraction.text import HashingVectorizer"
   ]
  },
  {
   "cell_type": "code",
   "execution_count": 52,
   "metadata": {},
   "outputs": [
    {
     "name": "stderr",
     "output_type": "stream",
     "text": [
      "C:\\Users\\krup1\\anaconda3\\lib\\site-packages\\sklearn\\feature_extraction\\text.py:484: UserWarning: The parameter 'token_pattern' will not be used since 'tokenizer' is not None'\n",
      "  warnings.warn(\"The parameter 'token_pattern' will not be used\"\n"
     ]
    }
   ],
   "source": [
    "vectorizer = HashingVectorizer(tokenizer = My_tokenizer, n_features=30000)\n",
    "X = vectorizer.fit_transform(tr['title & description'])"
   ]
  },
  {
   "cell_type": "code",
   "execution_count": 53,
   "metadata": {},
   "outputs": [],
   "source": [
    "x_train, x_test, y_train, y_test = train_test_split(X, tr.Category, random_state=13, test_size=0.2)"
   ]
  },
  {
   "cell_type": "code",
   "execution_count": 54,
   "metadata": {},
   "outputs": [],
   "source": [
    "clf = SGDClassifier()\n",
    "clf.fit(x_train, y_train)\n",
    "pred = clf.predict(x_test)"
   ]
  },
  {
   "cell_type": "code",
   "execution_count": 55,
   "metadata": {},
   "outputs": [
    {
     "name": "stdout",
     "output_type": "stream",
     "text": [
      "0.82036\n"
     ]
    }
   ],
   "source": [
    "print(accuracy_score(y_test, pred))"
   ]
  },
  {
   "cell_type": "markdown",
   "metadata": {},
   "source": [
    "### ✅HashingVectorizer - 0.82036"
   ]
  },
  {
   "cell_type": "markdown",
   "metadata": {},
   "source": [
    "**Видим, что доля правильных ответов стала меньше почти на 0.04 по сравнению с CountVectorizerом, и на почти 0.01 меньше, чем у TfidfVectorizer.**"
   ]
  },
  {
   "cell_type": "markdown",
   "metadata": {},
   "source": [
    "## Формируем файл с предсказаниями"
   ]
  },
  {
   "cell_type": "markdown",
   "metadata": {},
   "source": [
    "### Обрабатываем test"
   ]
  },
  {
   "cell_type": "markdown",
   "metadata": {},
   "source": [
    "#### ✅Избавляемся от пропусков в данных. Проверяем их наличие. Смотрим на тип пропусков, заменяем пропуски пустой строкой."
   ]
  },
  {
   "cell_type": "code",
   "execution_count": 75,
   "metadata": {},
   "outputs": [
    {
     "data": {
      "text/plain": [
       "True"
      ]
     },
     "execution_count": 75,
     "metadata": {},
     "output_type": "execute_result"
    }
   ],
   "source": [
    "test.isnull().any().any()"
   ]
  },
  {
   "cell_type": "code",
   "execution_count": 77,
   "metadata": {},
   "outputs": [
    {
     "data": {
      "text/plain": [
       "description    1\n",
       "dtype: int64"
      ]
     },
     "execution_count": 77,
     "metadata": {},
     "output_type": "execute_result"
    }
   ],
   "source": [
    "nulls = test.isnull().sum()\n",
    "nulls = nulls[nulls>0]\n",
    "nulls"
   ]
  },
  {
   "cell_type": "code",
   "execution_count": 79,
   "metadata": {},
   "outputs": [
    {
     "name": "stdout",
     "output_type": "stream",
     "text": [
      "description : object\n"
     ]
    }
   ],
   "source": [
    "for col in test:\n",
    "    if test[col].isnull().sum() > 0:\n",
    "        print(col, \":\", test[col].dtypes)"
   ]
  },
  {
   "cell_type": "code",
   "execution_count": 80,
   "metadata": {},
   "outputs": [],
   "source": [
    "import numpy as np\n",
    "test = test.replace(np.nan, '', regex=True)"
   ]
  },
  {
   "cell_type": "markdown",
   "metadata": {},
   "source": [
    "✅ Пропусков нет"
   ]
  },
  {
   "cell_type": "code",
   "execution_count": 81,
   "metadata": {},
   "outputs": [
    {
     "data": {
      "text/plain": [
       "False"
      ]
     },
     "execution_count": 81,
     "metadata": {},
     "output_type": "execute_result"
    }
   ],
   "source": [
    "test.isnull().any().any()"
   ]
  },
  {
   "cell_type": "markdown",
   "metadata": {},
   "source": [
    "#### ✅ Сконкатенируем заголовок и описание в единую строку и поместим результат в отдельный столбец"
   ]
  },
  {
   "cell_type": "code",
   "execution_count": 84,
   "metadata": {},
   "outputs": [],
   "source": [
    "test['title & description'] = [' '.join([str(x), y]) for x, y in zip(test['title'], test['description'])]"
   ]
  },
  {
   "cell_type": "markdown",
   "metadata": {},
   "source": [
    "✅ Удалим столбцы, которые объединили в один "
   ]
  },
  {
   "cell_type": "code",
   "execution_count": 85,
   "metadata": {},
   "outputs": [],
   "source": [
    "test = test.drop(\"title\", axis=1)\n",
    "test = test.drop(\"description\", axis=1)"
   ]
  },
  {
   "cell_type": "markdown",
   "metadata": {},
   "source": [
    "- Посмотрим"
   ]
  },
  {
   "cell_type": "code",
   "execution_count": 86,
   "metadata": {},
   "outputs": [
    {
     "data": {
      "text/html": [
       "<div>\n",
       "<style scoped>\n",
       "    .dataframe tbody tr th:only-of-type {\n",
       "        vertical-align: middle;\n",
       "    }\n",
       "\n",
       "    .dataframe tbody tr th {\n",
       "        vertical-align: top;\n",
       "    }\n",
       "\n",
       "    .dataframe thead th {\n",
       "        text-align: right;\n",
       "    }\n",
       "</style>\n",
       "<table border=\"1\" class=\"dataframe\">\n",
       "  <thead>\n",
       "    <tr style=\"text-align: right;\">\n",
       "      <th></th>\n",
       "      <th>itemid</th>\n",
       "      <th>title &amp; description</th>\n",
       "    </tr>\n",
       "  </thead>\n",
       "  <tbody>\n",
       "    <tr>\n",
       "      <th>0</th>\n",
       "      <td>1778449823</td>\n",
       "      <td>Мастерка Мастерка фирмы форвард. Белого цвета....</td>\n",
       "    </tr>\n",
       "    <tr>\n",
       "      <th>1</th>\n",
       "      <td>1677656962</td>\n",
       "      <td>Зимние сапоги Продаю зимние сапоги, в хорошем ...</td>\n",
       "    </tr>\n",
       "    <tr>\n",
       "      <th>2</th>\n",
       "      <td>1758182804</td>\n",
       "      <td>Видеонаблюдение 8 камер В комплект Atis AMD-2M...</td>\n",
       "    </tr>\n",
       "    <tr>\n",
       "      <th>3</th>\n",
       "      <td>1689811299</td>\n",
       "      <td>Запчасти для GLE Запчасти GLE</td>\n",
       "    </tr>\n",
       "    <tr>\n",
       "      <th>4</th>\n",
       "      <td>1804706240</td>\n",
       "      <td>Бластер nerf Состояние 5+/\\nПродаю потому что ...</td>\n",
       "    </tr>\n",
       "    <tr>\n",
       "      <th>...</th>\n",
       "      <td>...</td>\n",
       "      <td>...</td>\n",
       "    </tr>\n",
       "    <tr>\n",
       "      <th>1411343</th>\n",
       "      <td>902146704</td>\n",
       "      <td>Бетоносмеситель Россия бсэ-140 чугун Бетономеш...</td>\n",
       "    </tr>\n",
       "    <tr>\n",
       "      <th>1411344</th>\n",
       "      <td>1799983289</td>\n",
       "      <td>Разношрокие колеса R19 оригинал Porsche Paname...</td>\n",
       "    </tr>\n",
       "    <tr>\n",
       "      <th>1411345</th>\n",
       "      <td>1177237748</td>\n",
       "      <td>Комбенз зимний размер Комбензон на овчине .Под...</td>\n",
       "    </tr>\n",
       "    <tr>\n",
       "      <th>1411346</th>\n",
       "      <td>1793055786</td>\n",
       "      <td>Смартфон Honor 5C В отличном состоянии. Исполь...</td>\n",
       "    </tr>\n",
       "    <tr>\n",
       "      <th>1411347</th>\n",
       "      <td>1109142980</td>\n",
       "      <td>Слипоны Ralph Lauren 6.5 Новые без коробки , п...</td>\n",
       "    </tr>\n",
       "  </tbody>\n",
       "</table>\n",
       "<p>1411348 rows × 2 columns</p>\n",
       "</div>"
      ],
      "text/plain": [
       "             itemid                                title & description\n",
       "0        1778449823  Мастерка Мастерка фирмы форвард. Белого цвета....\n",
       "1        1677656962  Зимние сапоги Продаю зимние сапоги, в хорошем ...\n",
       "2        1758182804  Видеонаблюдение 8 камер В комплект Atis AMD-2M...\n",
       "3        1689811299                      Запчасти для GLE Запчасти GLE\n",
       "4        1804706240  Бластер nerf Состояние 5+/\\nПродаю потому что ...\n",
       "...             ...                                                ...\n",
       "1411343   902146704  Бетоносмеситель Россия бсэ-140 чугун Бетономеш...\n",
       "1411344  1799983289  Разношрокие колеса R19 оригинал Porsche Paname...\n",
       "1411345  1177237748  Комбенз зимний размер Комбензон на овчине .Под...\n",
       "1411346  1793055786  Смартфон Honor 5C В отличном состоянии. Исполь...\n",
       "1411347  1109142980  Слипоны Ralph Lauren 6.5 Новые без коробки , п...\n",
       "\n",
       "[1411348 rows x 2 columns]"
      ]
     },
     "execution_count": 86,
     "metadata": {},
     "output_type": "execute_result"
    }
   ],
   "source": [
    "test"
   ]
  },
  {
   "cell_type": "markdown",
   "metadata": {},
   "source": [
    "✅ Обработаем test с помощью **CountVectorizer** (выбрала его, так как с его использованием качетво правильных ответов было мксимальным по сравнению с другими методами)"
   ]
  },
  {
   "cell_type": "code",
   "execution_count": 102,
   "metadata": {},
   "outputs": [],
   "source": [
    "from sklearn.feature_extraction.text import CountVectorizer\n",
    "\n",
    "vectorizer = CountVectorizer(tokenizer = My_tokenizer)\n",
    "bow_t = vectorizer.fit_transform(tr['title & description'])    # обучаем токенайзер на трейне\n",
    "bow_test = vectorizer.transform(test['title & description'])   # применяем на тесте"
   ]
  },
  {
   "cell_type": "markdown",
   "metadata": {},
   "source": [
    "### 🆘 Предсказываем категорию товаров по тестовой выборке "
   ]
  },
  {
   "cell_type": "code",
   "execution_count": 104,
   "metadata": {},
   "outputs": [],
   "source": [
    "clf = SGDClassifier()\n",
    "clf.fit(x_train, y_train)\n",
    "pred_CountVectorizer = clf.predict(bow_test)"
   ]
  },
  {
   "cell_type": "markdown",
   "metadata": {},
   "source": [
    "- Далее привожу данные к виду, как указано было в примере поссылки"
   ]
  },
  {
   "cell_type": "code",
   "execution_count": 119,
   "metadata": {},
   "outputs": [],
   "source": [
    "df = pd.DataFrame(data=np.array(test.itemid), columns = ['Id'])"
   ]
  },
  {
   "cell_type": "code",
   "execution_count": 120,
   "metadata": {},
   "outputs": [],
   "source": [
    "df = pd.concat([df, pd.DataFrame(pred_CountVectorizer)], axis = 1)"
   ]
  },
  {
   "cell_type": "code",
   "execution_count": 121,
   "metadata": {},
   "outputs": [],
   "source": [
    "df = df.rename(columns = {0: 'Category'})"
   ]
  },
  {
   "cell_type": "code",
   "execution_count": 122,
   "metadata": {},
   "outputs": [
    {
     "data": {
      "text/html": [
       "<div>\n",
       "<style scoped>\n",
       "    .dataframe tbody tr th:only-of-type {\n",
       "        vertical-align: middle;\n",
       "    }\n",
       "\n",
       "    .dataframe tbody tr th {\n",
       "        vertical-align: top;\n",
       "    }\n",
       "\n",
       "    .dataframe thead th {\n",
       "        text-align: right;\n",
       "    }\n",
       "</style>\n",
       "<table border=\"1\" class=\"dataframe\">\n",
       "  <thead>\n",
       "    <tr style=\"text-align: right;\">\n",
       "      <th></th>\n",
       "      <th>Id</th>\n",
       "      <th>Category</th>\n",
       "    </tr>\n",
       "  </thead>\n",
       "  <tbody>\n",
       "    <tr>\n",
       "      <th>0</th>\n",
       "      <td>1778449823</td>\n",
       "      <td>29</td>\n",
       "    </tr>\n",
       "    <tr>\n",
       "      <th>1</th>\n",
       "      <td>1677656962</td>\n",
       "      <td>29</td>\n",
       "    </tr>\n",
       "    <tr>\n",
       "      <th>2</th>\n",
       "      <td>1758182804</td>\n",
       "      <td>32</td>\n",
       "    </tr>\n",
       "    <tr>\n",
       "      <th>3</th>\n",
       "      <td>1689811299</td>\n",
       "      <td>10</td>\n",
       "    </tr>\n",
       "    <tr>\n",
       "      <th>4</th>\n",
       "      <td>1804706240</td>\n",
       "      <td>30</td>\n",
       "    </tr>\n",
       "    <tr>\n",
       "      <th>...</th>\n",
       "      <td>...</td>\n",
       "      <td>...</td>\n",
       "    </tr>\n",
       "    <tr>\n",
       "      <th>1411343</th>\n",
       "      <td>902146704</td>\n",
       "      <td>19</td>\n",
       "    </tr>\n",
       "    <tr>\n",
       "      <th>1411344</th>\n",
       "      <td>1799983289</td>\n",
       "      <td>10</td>\n",
       "    </tr>\n",
       "    <tr>\n",
       "      <th>1411345</th>\n",
       "      <td>1177237748</td>\n",
       "      <td>29</td>\n",
       "    </tr>\n",
       "    <tr>\n",
       "      <th>1411346</th>\n",
       "      <td>1793055786</td>\n",
       "      <td>84</td>\n",
       "    </tr>\n",
       "    <tr>\n",
       "      <th>1411347</th>\n",
       "      <td>1109142980</td>\n",
       "      <td>27</td>\n",
       "    </tr>\n",
       "  </tbody>\n",
       "</table>\n",
       "<p>1411348 rows × 2 columns</p>\n",
       "</div>"
      ],
      "text/plain": [
       "                 Id  Category\n",
       "0        1778449823        29\n",
       "1        1677656962        29\n",
       "2        1758182804        32\n",
       "3        1689811299        10\n",
       "4        1804706240        30\n",
       "...             ...       ...\n",
       "1411343   902146704        19\n",
       "1411344  1799983289        10\n",
       "1411345  1177237748        29\n",
       "1411346  1793055786        84\n",
       "1411347  1109142980        27\n",
       "\n",
       "[1411348 rows x 2 columns]"
      ]
     },
     "execution_count": 122,
     "metadata": {},
     "output_type": "execute_result"
    }
   ],
   "source": [
    "df"
   ]
  },
  {
   "cell_type": "markdown",
   "metadata": {},
   "source": [
    "###  Запишем в csv файл поссылку"
   ]
  },
  {
   "cell_type": "code",
   "execution_count": 123,
   "metadata": {},
   "outputs": [],
   "source": [
    "df.to_csv('predict_Rvach_IAD_1.csv', index = False)"
   ]
  }
 ],
 "metadata": {
  "kernelspec": {
   "display_name": "Python 3",
   "language": "python",
   "name": "python3"
  },
  "language_info": {
   "codemirror_mode": {
    "name": "ipython",
    "version": 3
   },
   "file_extension": ".py",
   "mimetype": "text/x-python",
   "name": "python",
   "nbconvert_exporter": "python",
   "pygments_lexer": "ipython3",
   "version": "3.8.3"
  }
 },
 "nbformat": 4,
 "nbformat_minor": 2
}
